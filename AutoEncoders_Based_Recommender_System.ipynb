{
  "nbformat": 4,
  "nbformat_minor": 0,
  "metadata": {
    "colab": {
      "name": "AutoEncoders Based Recommender System.ipynb",
      "provenance": [],
      "collapsed_sections": []
    },
    "kernelspec": {
      "name": "python3",
      "display_name": "Python 3"
    }
  },
  "cells": [
    {
      "cell_type": "code",
      "metadata": {
        "id": "YOqrYs_JeNTy",
        "colab_type": "code",
        "colab": {
          "base_uri": "https://localhost:8080/",
          "height": 125
        },
        "outputId": "d0b58301-ebe1-42ad-ae1f-df49b362cc42"
      },
      "source": [
        "from google.colab import drive\n",
        "drive.mount('/content/drive')"
      ],
      "execution_count": 1,
      "outputs": [
        {
          "output_type": "stream",
          "text": [
            "Go to this URL in a browser: https://accounts.google.com/o/oauth2/auth?client_id=947318989803-6bn6qk8qdgf4n4g3pfee6491hc0brc4i.apps.googleusercontent.com&redirect_uri=urn%3aietf%3awg%3aoauth%3a2.0%3aoob&response_type=code&scope=email%20https%3a%2f%2fwww.googleapis.com%2fauth%2fdocs.test%20https%3a%2f%2fwww.googleapis.com%2fauth%2fdrive%20https%3a%2f%2fwww.googleapis.com%2fauth%2fdrive.photos.readonly%20https%3a%2f%2fwww.googleapis.com%2fauth%2fpeopleapi.readonly\n",
            "\n",
            "Enter your authorization code:\n",
            "··········\n",
            "Mounted at /content/drive\n"
          ],
          "name": "stdout"
        }
      ]
    },
    {
      "cell_type": "code",
      "metadata": {
        "id": "teyqgMBweWq7",
        "colab_type": "code",
        "colab": {}
      },
      "source": [
        "import numpy as np\n",
        "import torch\n",
        "import pandas as pd\n",
        "import torch.nn as nn\n",
        "import torch.nn.parallel\n",
        "import torch.optim as optim\n",
        "import torch.utils.data\n",
        "from torch.autograd import Variable"
      ],
      "execution_count": 0,
      "outputs": []
    },
    {
      "cell_type": "code",
      "metadata": {
        "id": "H36rjBQ7epog",
        "colab_type": "code",
        "colab": {}
      },
      "source": [
        "!unzip -uq \"/content/drive/My Drive/Colab Notebooks/Boltzmann Machine/Boltzmann_Machines.zip\" -d \"/content/drive/My Drive/Colab Notebooks/AutoEncoders based recommendation system\""
      ],
      "execution_count": 0,
      "outputs": []
    },
    {
      "cell_type": "code",
      "metadata": {
        "id": "V_I1In1jgSSO",
        "colab_type": "code",
        "colab": {}
      },
      "source": [
        "# importing datasets\n",
        "\n",
        "movies=pd.read_csv('/content/drive/My Drive/Colab Notebooks/Boltzmann Machine/Boltzmann_Machines/ml-1m/movies.dat',sep='::',header=None, engine='python',encoding='latin-1')\n",
        "users=pd.read_csv('/content/drive/My Drive/Colab Notebooks/Boltzmann Machine/Boltzmann_Machines/ml-1m/users.dat',sep='::',header=None, engine='python',encoding='latin-1')\n",
        "ratings=pd.read_csv('/content/drive/My Drive/Colab Notebooks/Boltzmann Machine/Boltzmann_Machines/ml-1m/ratings.dat',sep='::',header=None, engine='python',encoding='latin-1')"
      ],
      "execution_count": 0,
      "outputs": []
    },
    {
      "cell_type": "code",
      "metadata": {
        "id": "iu0FsK-cgW3B",
        "colab_type": "code",
        "colab": {
          "base_uri": "https://localhost:8080/",
          "height": 406
        },
        "outputId": "ae3bda10-2626-46fb-8d8e-3e2e8f18aead"
      },
      "source": [
        "movies"
      ],
      "execution_count": 5,
      "outputs": [
        {
          "output_type": "execute_result",
          "data": {
            "text/html": [
              "<div>\n",
              "<style scoped>\n",
              "    .dataframe tbody tr th:only-of-type {\n",
              "        vertical-align: middle;\n",
              "    }\n",
              "\n",
              "    .dataframe tbody tr th {\n",
              "        vertical-align: top;\n",
              "    }\n",
              "\n",
              "    .dataframe thead th {\n",
              "        text-align: right;\n",
              "    }\n",
              "</style>\n",
              "<table border=\"1\" class=\"dataframe\">\n",
              "  <thead>\n",
              "    <tr style=\"text-align: right;\">\n",
              "      <th></th>\n",
              "      <th>0</th>\n",
              "      <th>1</th>\n",
              "      <th>2</th>\n",
              "    </tr>\n",
              "  </thead>\n",
              "  <tbody>\n",
              "    <tr>\n",
              "      <th>0</th>\n",
              "      <td>1</td>\n",
              "      <td>Toy Story (1995)</td>\n",
              "      <td>Animation|Children's|Comedy</td>\n",
              "    </tr>\n",
              "    <tr>\n",
              "      <th>1</th>\n",
              "      <td>2</td>\n",
              "      <td>Jumanji (1995)</td>\n",
              "      <td>Adventure|Children's|Fantasy</td>\n",
              "    </tr>\n",
              "    <tr>\n",
              "      <th>2</th>\n",
              "      <td>3</td>\n",
              "      <td>Grumpier Old Men (1995)</td>\n",
              "      <td>Comedy|Romance</td>\n",
              "    </tr>\n",
              "    <tr>\n",
              "      <th>3</th>\n",
              "      <td>4</td>\n",
              "      <td>Waiting to Exhale (1995)</td>\n",
              "      <td>Comedy|Drama</td>\n",
              "    </tr>\n",
              "    <tr>\n",
              "      <th>4</th>\n",
              "      <td>5</td>\n",
              "      <td>Father of the Bride Part II (1995)</td>\n",
              "      <td>Comedy</td>\n",
              "    </tr>\n",
              "    <tr>\n",
              "      <th>...</th>\n",
              "      <td>...</td>\n",
              "      <td>...</td>\n",
              "      <td>...</td>\n",
              "    </tr>\n",
              "    <tr>\n",
              "      <th>3878</th>\n",
              "      <td>3948</td>\n",
              "      <td>Meet the Parents (2000)</td>\n",
              "      <td>Comedy</td>\n",
              "    </tr>\n",
              "    <tr>\n",
              "      <th>3879</th>\n",
              "      <td>3949</td>\n",
              "      <td>Requiem for a Dream (2000)</td>\n",
              "      <td>Drama</td>\n",
              "    </tr>\n",
              "    <tr>\n",
              "      <th>3880</th>\n",
              "      <td>3950</td>\n",
              "      <td>Tigerland (2000)</td>\n",
              "      <td>Drama</td>\n",
              "    </tr>\n",
              "    <tr>\n",
              "      <th>3881</th>\n",
              "      <td>3951</td>\n",
              "      <td>Two Family House (2000)</td>\n",
              "      <td>Drama</td>\n",
              "    </tr>\n",
              "    <tr>\n",
              "      <th>3882</th>\n",
              "      <td>3952</td>\n",
              "      <td>Contender, The (2000)</td>\n",
              "      <td>Drama|Thriller</td>\n",
              "    </tr>\n",
              "  </tbody>\n",
              "</table>\n",
              "<p>3883 rows × 3 columns</p>\n",
              "</div>"
            ],
            "text/plain": [
              "         0                                   1                             2\n",
              "0        1                    Toy Story (1995)   Animation|Children's|Comedy\n",
              "1        2                      Jumanji (1995)  Adventure|Children's|Fantasy\n",
              "2        3             Grumpier Old Men (1995)                Comedy|Romance\n",
              "3        4            Waiting to Exhale (1995)                  Comedy|Drama\n",
              "4        5  Father of the Bride Part II (1995)                        Comedy\n",
              "...    ...                                 ...                           ...\n",
              "3878  3948             Meet the Parents (2000)                        Comedy\n",
              "3879  3949          Requiem for a Dream (2000)                         Drama\n",
              "3880  3950                    Tigerland (2000)                         Drama\n",
              "3881  3951             Two Family House (2000)                         Drama\n",
              "3882  3952               Contender, The (2000)                Drama|Thriller\n",
              "\n",
              "[3883 rows x 3 columns]"
            ]
          },
          "metadata": {
            "tags": []
          },
          "execution_count": 5
        }
      ]
    },
    {
      "cell_type": "code",
      "metadata": {
        "id": "tRUeyuK1gkCr",
        "colab_type": "code",
        "colab": {
          "base_uri": "https://localhost:8080/",
          "height": 406
        },
        "outputId": "1024bc86-540c-4e40-a791-0ca5fe40f74e"
      },
      "source": [
        "users"
      ],
      "execution_count": 6,
      "outputs": [
        {
          "output_type": "execute_result",
          "data": {
            "text/html": [
              "<div>\n",
              "<style scoped>\n",
              "    .dataframe tbody tr th:only-of-type {\n",
              "        vertical-align: middle;\n",
              "    }\n",
              "\n",
              "    .dataframe tbody tr th {\n",
              "        vertical-align: top;\n",
              "    }\n",
              "\n",
              "    .dataframe thead th {\n",
              "        text-align: right;\n",
              "    }\n",
              "</style>\n",
              "<table border=\"1\" class=\"dataframe\">\n",
              "  <thead>\n",
              "    <tr style=\"text-align: right;\">\n",
              "      <th></th>\n",
              "      <th>0</th>\n",
              "      <th>1</th>\n",
              "      <th>2</th>\n",
              "      <th>3</th>\n",
              "      <th>4</th>\n",
              "    </tr>\n",
              "  </thead>\n",
              "  <tbody>\n",
              "    <tr>\n",
              "      <th>0</th>\n",
              "      <td>1</td>\n",
              "      <td>F</td>\n",
              "      <td>1</td>\n",
              "      <td>10</td>\n",
              "      <td>48067</td>\n",
              "    </tr>\n",
              "    <tr>\n",
              "      <th>1</th>\n",
              "      <td>2</td>\n",
              "      <td>M</td>\n",
              "      <td>56</td>\n",
              "      <td>16</td>\n",
              "      <td>70072</td>\n",
              "    </tr>\n",
              "    <tr>\n",
              "      <th>2</th>\n",
              "      <td>3</td>\n",
              "      <td>M</td>\n",
              "      <td>25</td>\n",
              "      <td>15</td>\n",
              "      <td>55117</td>\n",
              "    </tr>\n",
              "    <tr>\n",
              "      <th>3</th>\n",
              "      <td>4</td>\n",
              "      <td>M</td>\n",
              "      <td>45</td>\n",
              "      <td>7</td>\n",
              "      <td>02460</td>\n",
              "    </tr>\n",
              "    <tr>\n",
              "      <th>4</th>\n",
              "      <td>5</td>\n",
              "      <td>M</td>\n",
              "      <td>25</td>\n",
              "      <td>20</td>\n",
              "      <td>55455</td>\n",
              "    </tr>\n",
              "    <tr>\n",
              "      <th>...</th>\n",
              "      <td>...</td>\n",
              "      <td>...</td>\n",
              "      <td>...</td>\n",
              "      <td>...</td>\n",
              "      <td>...</td>\n",
              "    </tr>\n",
              "    <tr>\n",
              "      <th>6035</th>\n",
              "      <td>6036</td>\n",
              "      <td>F</td>\n",
              "      <td>25</td>\n",
              "      <td>15</td>\n",
              "      <td>32603</td>\n",
              "    </tr>\n",
              "    <tr>\n",
              "      <th>6036</th>\n",
              "      <td>6037</td>\n",
              "      <td>F</td>\n",
              "      <td>45</td>\n",
              "      <td>1</td>\n",
              "      <td>76006</td>\n",
              "    </tr>\n",
              "    <tr>\n",
              "      <th>6037</th>\n",
              "      <td>6038</td>\n",
              "      <td>F</td>\n",
              "      <td>56</td>\n",
              "      <td>1</td>\n",
              "      <td>14706</td>\n",
              "    </tr>\n",
              "    <tr>\n",
              "      <th>6038</th>\n",
              "      <td>6039</td>\n",
              "      <td>F</td>\n",
              "      <td>45</td>\n",
              "      <td>0</td>\n",
              "      <td>01060</td>\n",
              "    </tr>\n",
              "    <tr>\n",
              "      <th>6039</th>\n",
              "      <td>6040</td>\n",
              "      <td>M</td>\n",
              "      <td>25</td>\n",
              "      <td>6</td>\n",
              "      <td>11106</td>\n",
              "    </tr>\n",
              "  </tbody>\n",
              "</table>\n",
              "<p>6040 rows × 5 columns</p>\n",
              "</div>"
            ],
            "text/plain": [
              "         0  1   2   3      4\n",
              "0        1  F   1  10  48067\n",
              "1        2  M  56  16  70072\n",
              "2        3  M  25  15  55117\n",
              "3        4  M  45   7  02460\n",
              "4        5  M  25  20  55455\n",
              "...    ... ..  ..  ..    ...\n",
              "6035  6036  F  25  15  32603\n",
              "6036  6037  F  45   1  76006\n",
              "6037  6038  F  56   1  14706\n",
              "6038  6039  F  45   0  01060\n",
              "6039  6040  M  25   6  11106\n",
              "\n",
              "[6040 rows x 5 columns]"
            ]
          },
          "metadata": {
            "tags": []
          },
          "execution_count": 6
        }
      ]
    },
    {
      "cell_type": "code",
      "metadata": {
        "id": "EPaj-0GpgmbY",
        "colab_type": "code",
        "colab": {
          "base_uri": "https://localhost:8080/",
          "height": 406
        },
        "outputId": "8f023104-b90c-4f15-8622-7c322058cd9c"
      },
      "source": [
        "ratings"
      ],
      "execution_count": 7,
      "outputs": [
        {
          "output_type": "execute_result",
          "data": {
            "text/html": [
              "<div>\n",
              "<style scoped>\n",
              "    .dataframe tbody tr th:only-of-type {\n",
              "        vertical-align: middle;\n",
              "    }\n",
              "\n",
              "    .dataframe tbody tr th {\n",
              "        vertical-align: top;\n",
              "    }\n",
              "\n",
              "    .dataframe thead th {\n",
              "        text-align: right;\n",
              "    }\n",
              "</style>\n",
              "<table border=\"1\" class=\"dataframe\">\n",
              "  <thead>\n",
              "    <tr style=\"text-align: right;\">\n",
              "      <th></th>\n",
              "      <th>0</th>\n",
              "      <th>1</th>\n",
              "      <th>2</th>\n",
              "      <th>3</th>\n",
              "    </tr>\n",
              "  </thead>\n",
              "  <tbody>\n",
              "    <tr>\n",
              "      <th>0</th>\n",
              "      <td>1</td>\n",
              "      <td>1193</td>\n",
              "      <td>5</td>\n",
              "      <td>978300760</td>\n",
              "    </tr>\n",
              "    <tr>\n",
              "      <th>1</th>\n",
              "      <td>1</td>\n",
              "      <td>661</td>\n",
              "      <td>3</td>\n",
              "      <td>978302109</td>\n",
              "    </tr>\n",
              "    <tr>\n",
              "      <th>2</th>\n",
              "      <td>1</td>\n",
              "      <td>914</td>\n",
              "      <td>3</td>\n",
              "      <td>978301968</td>\n",
              "    </tr>\n",
              "    <tr>\n",
              "      <th>3</th>\n",
              "      <td>1</td>\n",
              "      <td>3408</td>\n",
              "      <td>4</td>\n",
              "      <td>978300275</td>\n",
              "    </tr>\n",
              "    <tr>\n",
              "      <th>4</th>\n",
              "      <td>1</td>\n",
              "      <td>2355</td>\n",
              "      <td>5</td>\n",
              "      <td>978824291</td>\n",
              "    </tr>\n",
              "    <tr>\n",
              "      <th>...</th>\n",
              "      <td>...</td>\n",
              "      <td>...</td>\n",
              "      <td>...</td>\n",
              "      <td>...</td>\n",
              "    </tr>\n",
              "    <tr>\n",
              "      <th>1000204</th>\n",
              "      <td>6040</td>\n",
              "      <td>1091</td>\n",
              "      <td>1</td>\n",
              "      <td>956716541</td>\n",
              "    </tr>\n",
              "    <tr>\n",
              "      <th>1000205</th>\n",
              "      <td>6040</td>\n",
              "      <td>1094</td>\n",
              "      <td>5</td>\n",
              "      <td>956704887</td>\n",
              "    </tr>\n",
              "    <tr>\n",
              "      <th>1000206</th>\n",
              "      <td>6040</td>\n",
              "      <td>562</td>\n",
              "      <td>5</td>\n",
              "      <td>956704746</td>\n",
              "    </tr>\n",
              "    <tr>\n",
              "      <th>1000207</th>\n",
              "      <td>6040</td>\n",
              "      <td>1096</td>\n",
              "      <td>4</td>\n",
              "      <td>956715648</td>\n",
              "    </tr>\n",
              "    <tr>\n",
              "      <th>1000208</th>\n",
              "      <td>6040</td>\n",
              "      <td>1097</td>\n",
              "      <td>4</td>\n",
              "      <td>956715569</td>\n",
              "    </tr>\n",
              "  </tbody>\n",
              "</table>\n",
              "<p>1000209 rows × 4 columns</p>\n",
              "</div>"
            ],
            "text/plain": [
              "            0     1  2          3\n",
              "0           1  1193  5  978300760\n",
              "1           1   661  3  978302109\n",
              "2           1   914  3  978301968\n",
              "3           1  3408  4  978300275\n",
              "4           1  2355  5  978824291\n",
              "...       ...   ... ..        ...\n",
              "1000204  6040  1091  1  956716541\n",
              "1000205  6040  1094  5  956704887\n",
              "1000206  6040   562  5  956704746\n",
              "1000207  6040  1096  4  956715648\n",
              "1000208  6040  1097  4  956715569\n",
              "\n",
              "[1000209 rows x 4 columns]"
            ]
          },
          "metadata": {
            "tags": []
          },
          "execution_count": 7
        }
      ]
    },
    {
      "cell_type": "code",
      "metadata": {
        "id": "nkqdGsAIgn39",
        "colab_type": "code",
        "colab": {}
      },
      "source": [
        "train_set=pd.read_csv('/content/drive/My Drive/Colab Notebooks/Boltzmann Machine/Boltzmann_Machines/ml-100k/u1.base', delimiter='\\t')\n",
        "train_set=np.array(train_set, dtype='int')\n",
        "test_set=pd.read_csv('/content/drive/My Drive/Colab Notebooks/Boltzmann Machine/Boltzmann_Machines/ml-100k/u1.test', delimiter='\\t')\n",
        "test_set=np.array(test_set,dtype='int')"
      ],
      "execution_count": 0,
      "outputs": []
    },
    {
      "cell_type": "code",
      "metadata": {
        "id": "KMmLIo-egrM6",
        "colab_type": "code",
        "colab": {
          "base_uri": "https://localhost:8080/",
          "height": 141
        },
        "outputId": "9b5c8a70-a246-401c-fe3a-7fdea6ffe01f"
      },
      "source": [
        "train_set"
      ],
      "execution_count": 9,
      "outputs": [
        {
          "output_type": "execute_result",
          "data": {
            "text/plain": [
              "array([[        1,         2,         3, 876893171],\n",
              "       [        1,         3,         4, 878542960],\n",
              "       [        1,         4,         3, 876893119],\n",
              "       ...,\n",
              "       [      943,      1188,         3, 888640250],\n",
              "       [      943,      1228,         3, 888640275],\n",
              "       [      943,      1330,         3, 888692465]])"
            ]
          },
          "metadata": {
            "tags": []
          },
          "execution_count": 9
        }
      ]
    },
    {
      "cell_type": "code",
      "metadata": {
        "id": "Xlf2nU2Wgsx5",
        "colab_type": "code",
        "colab": {
          "base_uri": "https://localhost:8080/",
          "height": 141
        },
        "outputId": "2235fb73-a2c9-4f26-f21c-ff6604571f28"
      },
      "source": [
        "test_set"
      ],
      "execution_count": 10,
      "outputs": [
        {
          "output_type": "execute_result",
          "data": {
            "text/plain": [
              "array([[        1,        10,         3, 875693118],\n",
              "       [        1,        12,         5, 878542960],\n",
              "       [        1,        14,         5, 874965706],\n",
              "       ...,\n",
              "       [      459,       934,         3, 879563639],\n",
              "       [      460,        10,         3, 882912371],\n",
              "       [      462,       682,         5, 886365231]])"
            ]
          },
          "metadata": {
            "tags": []
          },
          "execution_count": 10
        }
      ]
    },
    {
      "cell_type": "code",
      "metadata": {
        "id": "UHVS2fpWgtv4",
        "colab_type": "code",
        "colab": {}
      },
      "source": [
        "nb_users=int(max(max(train_set[:,0]),max(test_set[:,0])))\n",
        "nb_movies=int(max(max(train_set[:,1]),max(test_set[:,1])))"
      ],
      "execution_count": 0,
      "outputs": []
    },
    {
      "cell_type": "code",
      "metadata": {
        "id": "wq1ArTm4gxIT",
        "colab_type": "code",
        "colab": {
          "base_uri": "https://localhost:8080/",
          "height": 34
        },
        "outputId": "bb9cf561-5598-4955-fe5c-366900f1a04d"
      },
      "source": [
        "nb_users"
      ],
      "execution_count": 12,
      "outputs": [
        {
          "output_type": "execute_result",
          "data": {
            "text/plain": [
              "943"
            ]
          },
          "metadata": {
            "tags": []
          },
          "execution_count": 12
        }
      ]
    },
    {
      "cell_type": "code",
      "metadata": {
        "id": "9WB6JLoJg08r",
        "colab_type": "code",
        "colab": {
          "base_uri": "https://localhost:8080/",
          "height": 34
        },
        "outputId": "b725f635-5985-4f07-b77c-8ebe639e2968"
      },
      "source": [
        "nb_movies"
      ],
      "execution_count": 13,
      "outputs": [
        {
          "output_type": "execute_result",
          "data": {
            "text/plain": [
              "1682"
            ]
          },
          "metadata": {
            "tags": []
          },
          "execution_count": 13
        }
      ]
    },
    {
      "cell_type": "code",
      "metadata": {
        "id": "GBUFYwRHg2Hn",
        "colab_type": "code",
        "colab": {}
      },
      "source": [
        "def convert(data):\n",
        "  new_data=[]\n",
        "  for id_users in range(1,nb_users+1):\n",
        "    id_movies=data[:,1][data[:,0]==id_users]\n",
        "    id_ratings=data[:,2][data[:,0]==id_users]\n",
        "    ratings=np.zeros(nb_movies)\n",
        "    ratings[id_movies-1]=id_ratings\n",
        "    new_data.append(list(ratings))\n",
        "  return new_data"
      ],
      "execution_count": 0,
      "outputs": []
    },
    {
      "cell_type": "code",
      "metadata": {
        "id": "5rIGfThYg9PC",
        "colab_type": "code",
        "colab": {}
      },
      "source": [
        "train_set=convert(train_set)"
      ],
      "execution_count": 0,
      "outputs": []
    },
    {
      "cell_type": "code",
      "metadata": {
        "id": "zWlJAQAFhANE",
        "colab_type": "code",
        "colab": {}
      },
      "source": [
        "test_set=convert(test_set)"
      ],
      "execution_count": 0,
      "outputs": []
    },
    {
      "cell_type": "code",
      "metadata": {
        "id": "cgwmV0Qrhq4B",
        "colab_type": "code",
        "colab": {
          "base_uri": "https://localhost:8080/",
          "height": 34
        },
        "outputId": "d762eec5-bd0e-416c-e0f7-5c2f670b2f69"
      },
      "source": [
        "np.shape(train_set)"
      ],
      "execution_count": 17,
      "outputs": [
        {
          "output_type": "execute_result",
          "data": {
            "text/plain": [
              "(943, 1682)"
            ]
          },
          "metadata": {
            "tags": []
          },
          "execution_count": 17
        }
      ]
    },
    {
      "cell_type": "code",
      "metadata": {
        "id": "upHhZXx4hvDH",
        "colab_type": "code",
        "colab": {
          "base_uri": "https://localhost:8080/",
          "height": 34
        },
        "outputId": "2cafa510-eb4e-48cc-bfbd-2378d46e24be"
      },
      "source": [
        "np.shape(test_set)"
      ],
      "execution_count": 18,
      "outputs": [
        {
          "output_type": "execute_result",
          "data": {
            "text/plain": [
              "(943, 1682)"
            ]
          },
          "metadata": {
            "tags": []
          },
          "execution_count": 18
        }
      ]
    },
    {
      "cell_type": "code",
      "metadata": {
        "id": "ndP4fr4lhx6b",
        "colab_type": "code",
        "colab": {}
      },
      "source": [
        "train_set=torch.FloatTensor(train_set)\n",
        "test_set=torch.FloatTensor(test_set)"
      ],
      "execution_count": 0,
      "outputs": []
    },
    {
      "cell_type": "code",
      "metadata": {
        "id": "xv_Ls38iicLo",
        "colab_type": "code",
        "colab": {
          "base_uri": "https://localhost:8080/",
          "height": 141
        },
        "outputId": "4ddc8c58-4b8a-42d0-a5c1-68ab6cf023fc"
      },
      "source": [
        "train_set"
      ],
      "execution_count": 20,
      "outputs": [
        {
          "output_type": "execute_result",
          "data": {
            "text/plain": [
              "tensor([[0., 3., 4.,  ..., 0., 0., 0.],\n",
              "        [4., 0., 0.,  ..., 0., 0., 0.],\n",
              "        [0., 0., 0.,  ..., 0., 0., 0.],\n",
              "        ...,\n",
              "        [5., 0., 0.,  ..., 0., 0., 0.],\n",
              "        [0., 0., 0.,  ..., 0., 0., 0.],\n",
              "        [0., 5., 0.,  ..., 0., 0., 0.]])"
            ]
          },
          "metadata": {
            "tags": []
          },
          "execution_count": 20
        }
      ]
    },
    {
      "cell_type": "code",
      "metadata": {
        "id": "mL48RhVkieCM",
        "colab_type": "code",
        "colab": {
          "base_uri": "https://localhost:8080/",
          "height": 141
        },
        "outputId": "55903ad3-92e3-4829-cdac-1907572b9f25"
      },
      "source": [
        "test_set"
      ],
      "execution_count": 21,
      "outputs": [
        {
          "output_type": "execute_result",
          "data": {
            "text/plain": [
              "tensor([[0., 0., 0.,  ..., 0., 0., 0.],\n",
              "        [0., 0., 0.,  ..., 0., 0., 0.],\n",
              "        [0., 0., 0.,  ..., 0., 0., 0.],\n",
              "        ...,\n",
              "        [0., 0., 0.,  ..., 0., 0., 0.],\n",
              "        [0., 0., 0.,  ..., 0., 0., 0.],\n",
              "        [0., 0., 0.,  ..., 0., 0., 0.]])"
            ]
          },
          "metadata": {
            "tags": []
          },
          "execution_count": 21
        }
      ]
    },
    {
      "cell_type": "code",
      "metadata": {
        "id": "aIm7AzQSifUK",
        "colab_type": "code",
        "colab": {}
      },
      "source": [
        "# neural network architecture creation\n",
        "\n",
        "class StackAutoEncoder(nn.Module):\n",
        "  def __init__(self,):\n",
        "    super(StackAutoEncoder, self).__init__()\n",
        "    self.fullconn1=nn.Linear(nb_movies,20)  #start full connection, nb_movies: input neurons, 20: hidden layer and output of nb_movies\n",
        "    self.fullconn2=nn.Linear(20,10)\n",
        "    self.fullconn3=nn.Linear(10,20)\n",
        "    self.fullconn4=nn.Linear(20,nb_movies)  \n",
        "    self.activation=nn.Sigmoid()\n",
        "\n",
        "  def forward(self,x):\n",
        "    x=self.activation(self.fullconn1(x))\n",
        "    x=self.activation(self.fullconn2(x))\n",
        "    x=self.activation(self.fullconn3(x))\n",
        "    x=(self.fullconn4(x))\n",
        "    return x\n",
        "sae=StackAutoEncoder()\n",
        "loss_fun=nn.MSELoss()  #defining the loss function(mean squared error)\n",
        "optimizer=optim.RMSprop(sae.parameters(), lr=0.01, weight_decay=0.5)"
      ],
      "execution_count": 0,
      "outputs": []
    },
    {
      "cell_type": "code",
      "metadata": {
        "id": "Bmv9R8t9mi8S",
        "colab_type": "code",
        "colab": {
          "base_uri": "https://localhost:8080/",
          "height": 1000
        },
        "outputId": "b9f3fd25-c0df-46c3-9cde-0ab96042a8a1"
      },
      "source": [
        "# training the model\n",
        "\n",
        "nb_epoch=250\n",
        "for i in range (1,nb_epoch+1):\n",
        "  train_loss=0\n",
        "  s=0.\n",
        "  for id_users in range(nb_users):\n",
        "    input=Variable(train_set[id_users]).unsqueeze(0)  # adding additional dimension at index pos 0 after the train_set\n",
        "    target=input.clone()  # input and target dims are same\n",
        "    if torch.sum(target.data>0)>0 : # atleast one movie has been rated\n",
        "       output=sae(input)\n",
        "       target.require_grad=False # no optimizers are used at the target end\n",
        "       output[target==0]=0\n",
        "       loss=loss_fun(target, output)\n",
        "       mean_corrector=nb_movies/float(torch.sum(target.data>0)+1e-10)\n",
        "       loss.backward()  # back propagation\n",
        "       train_loss+=np.sqrt(loss.data*mean_corrector)\n",
        "       s+=1.\n",
        "       optimizer.step()  \n",
        "    \n",
        "  print(\"Epoch: \"+str(i)+ \" Loss: \"+str(train_loss/s))\n",
        "\n"
      ],
      "execution_count": 39,
      "outputs": [
        {
          "output_type": "stream",
          "text": [
            "Epoch: 1 Loss: tensor(1.7656)\n",
            "Epoch: 2 Loss: tensor(1.0965)\n",
            "Epoch: 3 Loss: tensor(1.0533)\n",
            "Epoch: 4 Loss: tensor(1.0383)\n",
            "Epoch: 5 Loss: tensor(1.0309)\n",
            "Epoch: 6 Loss: tensor(1.0266)\n",
            "Epoch: 7 Loss: tensor(1.0239)\n",
            "Epoch: 8 Loss: tensor(1.0219)\n",
            "Epoch: 9 Loss: tensor(1.0210)\n",
            "Epoch: 10 Loss: tensor(1.0195)\n",
            "Epoch: 11 Loss: tensor(1.0192)\n",
            "Epoch: 12 Loss: tensor(1.0183)\n",
            "Epoch: 13 Loss: tensor(1.0178)\n",
            "Epoch: 14 Loss: tensor(1.0174)\n",
            "Epoch: 15 Loss: tensor(1.0172)\n",
            "Epoch: 16 Loss: tensor(1.0169)\n",
            "Epoch: 17 Loss: tensor(1.0167)\n",
            "Epoch: 18 Loss: tensor(1.0165)\n",
            "Epoch: 19 Loss: tensor(1.0164)\n",
            "Epoch: 20 Loss: tensor(1.0164)\n",
            "Epoch: 21 Loss: tensor(1.0158)\n",
            "Epoch: 22 Loss: tensor(1.0160)\n",
            "Epoch: 23 Loss: tensor(1.0158)\n",
            "Epoch: 24 Loss: tensor(1.0160)\n",
            "Epoch: 25 Loss: tensor(1.0155)\n",
            "Epoch: 26 Loss: tensor(1.0158)\n",
            "Epoch: 27 Loss: tensor(1.0154)\n",
            "Epoch: 28 Loss: tensor(1.0153)\n",
            "Epoch: 29 Loss: tensor(1.0130)\n",
            "Epoch: 30 Loss: tensor(1.0114)\n",
            "Epoch: 31 Loss: tensor(1.0103)\n",
            "Epoch: 32 Loss: tensor(1.0080)\n",
            "Epoch: 33 Loss: tensor(1.0075)\n",
            "Epoch: 34 Loss: tensor(1.0044)\n",
            "Epoch: 35 Loss: tensor(1.0036)\n",
            "Epoch: 36 Loss: tensor(1.0011)\n",
            "Epoch: 37 Loss: tensor(1.0002)\n",
            "Epoch: 38 Loss: tensor(0.9972)\n",
            "Epoch: 39 Loss: tensor(0.9958)\n",
            "Epoch: 40 Loss: tensor(0.9930)\n",
            "Epoch: 41 Loss: tensor(0.9938)\n",
            "Epoch: 42 Loss: tensor(0.9914)\n",
            "Epoch: 43 Loss: tensor(0.9875)\n",
            "Epoch: 44 Loss: tensor(0.9870)\n",
            "Epoch: 45 Loss: tensor(0.9858)\n",
            "Epoch: 46 Loss: tensor(0.9841)\n",
            "Epoch: 47 Loss: tensor(0.9847)\n",
            "Epoch: 48 Loss: tensor(0.9821)\n",
            "Epoch: 49 Loss: tensor(0.9799)\n",
            "Epoch: 50 Loss: tensor(0.9754)\n",
            "Epoch: 51 Loss: tensor(0.9737)\n",
            "Epoch: 52 Loss: tensor(0.9737)\n",
            "Epoch: 53 Loss: tensor(0.9730)\n",
            "Epoch: 54 Loss: tensor(0.9732)\n",
            "Epoch: 55 Loss: tensor(0.9688)\n",
            "Epoch: 56 Loss: tensor(0.9661)\n",
            "Epoch: 57 Loss: tensor(0.9660)\n",
            "Epoch: 58 Loss: tensor(0.9627)\n",
            "Epoch: 59 Loss: tensor(0.9625)\n",
            "Epoch: 60 Loss: tensor(0.9613)\n",
            "Epoch: 61 Loss: tensor(0.9624)\n",
            "Epoch: 62 Loss: tensor(0.9605)\n",
            "Epoch: 63 Loss: tensor(0.9608)\n",
            "Epoch: 64 Loss: tensor(0.9598)\n",
            "Epoch: 65 Loss: tensor(0.9593)\n",
            "Epoch: 66 Loss: tensor(0.9568)\n",
            "Epoch: 67 Loss: tensor(0.9549)\n",
            "Epoch: 68 Loss: tensor(0.9521)\n",
            "Epoch: 69 Loss: tensor(0.9528)\n",
            "Epoch: 70 Loss: tensor(0.9493)\n",
            "Epoch: 71 Loss: tensor(0.9500)\n",
            "Epoch: 72 Loss: tensor(0.9474)\n",
            "Epoch: 73 Loss: tensor(0.9487)\n",
            "Epoch: 74 Loss: tensor(0.9461)\n",
            "Epoch: 75 Loss: tensor(0.9474)\n",
            "Epoch: 76 Loss: tensor(0.9445)\n",
            "Epoch: 77 Loss: tensor(0.9458)\n",
            "Epoch: 78 Loss: tensor(0.9429)\n",
            "Epoch: 79 Loss: tensor(0.9439)\n",
            "Epoch: 80 Loss: tensor(0.9413)\n",
            "Epoch: 81 Loss: tensor(0.9428)\n",
            "Epoch: 82 Loss: tensor(0.9400)\n",
            "Epoch: 83 Loss: tensor(0.9420)\n",
            "Epoch: 84 Loss: tensor(0.9387)\n",
            "Epoch: 85 Loss: tensor(0.9409)\n",
            "Epoch: 86 Loss: tensor(0.9376)\n",
            "Epoch: 87 Loss: tensor(0.9393)\n",
            "Epoch: 88 Loss: tensor(0.9369)\n",
            "Epoch: 89 Loss: tensor(0.9384)\n",
            "Epoch: 90 Loss: tensor(0.9360)\n",
            "Epoch: 91 Loss: tensor(0.9376)\n",
            "Epoch: 92 Loss: tensor(0.9351)\n",
            "Epoch: 93 Loss: tensor(0.9366)\n",
            "Epoch: 94 Loss: tensor(0.9343)\n",
            "Epoch: 95 Loss: tensor(0.9354)\n",
            "Epoch: 96 Loss: tensor(0.9337)\n",
            "Epoch: 97 Loss: tensor(0.9348)\n",
            "Epoch: 98 Loss: tensor(0.9324)\n",
            "Epoch: 99 Loss: tensor(0.9338)\n",
            "Epoch: 100 Loss: tensor(0.9316)\n",
            "Epoch: 101 Loss: tensor(0.9331)\n",
            "Epoch: 102 Loss: tensor(0.9310)\n",
            "Epoch: 103 Loss: tensor(0.9321)\n",
            "Epoch: 104 Loss: tensor(0.9302)\n",
            "Epoch: 105 Loss: tensor(0.9315)\n",
            "Epoch: 106 Loss: tensor(0.9296)\n",
            "Epoch: 107 Loss: tensor(0.9304)\n",
            "Epoch: 108 Loss: tensor(0.9285)\n",
            "Epoch: 109 Loss: tensor(0.9292)\n",
            "Epoch: 110 Loss: tensor(0.9276)\n",
            "Epoch: 111 Loss: tensor(0.9290)\n",
            "Epoch: 112 Loss: tensor(0.9271)\n",
            "Epoch: 113 Loss: tensor(0.9281)\n",
            "Epoch: 114 Loss: tensor(0.9266)\n",
            "Epoch: 115 Loss: tensor(0.9274)\n",
            "Epoch: 116 Loss: tensor(0.9261)\n",
            "Epoch: 117 Loss: tensor(0.9270)\n",
            "Epoch: 118 Loss: tensor(0.9255)\n",
            "Epoch: 119 Loss: tensor(0.9285)\n",
            "Epoch: 120 Loss: tensor(0.9287)\n",
            "Epoch: 121 Loss: tensor(0.9283)\n",
            "Epoch: 122 Loss: tensor(0.9269)\n",
            "Epoch: 123 Loss: tensor(0.9280)\n",
            "Epoch: 124 Loss: tensor(0.9262)\n",
            "Epoch: 125 Loss: tensor(0.9270)\n",
            "Epoch: 126 Loss: tensor(0.9248)\n",
            "Epoch: 127 Loss: tensor(0.9258)\n",
            "Epoch: 128 Loss: tensor(0.9239)\n",
            "Epoch: 129 Loss: tensor(0.9251)\n",
            "Epoch: 130 Loss: tensor(0.9232)\n",
            "Epoch: 131 Loss: tensor(0.9243)\n",
            "Epoch: 132 Loss: tensor(0.9231)\n",
            "Epoch: 133 Loss: tensor(0.9241)\n",
            "Epoch: 134 Loss: tensor(0.9220)\n",
            "Epoch: 135 Loss: tensor(0.9241)\n",
            "Epoch: 136 Loss: tensor(0.9219)\n",
            "Epoch: 137 Loss: tensor(0.9224)\n",
            "Epoch: 138 Loss: tensor(0.9213)\n",
            "Epoch: 139 Loss: tensor(0.9221)\n",
            "Epoch: 140 Loss: tensor(0.9207)\n",
            "Epoch: 141 Loss: tensor(0.9216)\n",
            "Epoch: 142 Loss: tensor(0.9199)\n",
            "Epoch: 143 Loss: tensor(0.9207)\n",
            "Epoch: 144 Loss: tensor(0.9199)\n",
            "Epoch: 145 Loss: tensor(0.9201)\n",
            "Epoch: 146 Loss: tensor(0.9190)\n",
            "Epoch: 147 Loss: tensor(0.9209)\n",
            "Epoch: 148 Loss: tensor(0.9200)\n",
            "Epoch: 149 Loss: tensor(0.9196)\n",
            "Epoch: 150 Loss: tensor(0.9191)\n",
            "Epoch: 151 Loss: tensor(0.9188)\n",
            "Epoch: 152 Loss: tensor(0.9182)\n",
            "Epoch: 153 Loss: tensor(0.9181)\n",
            "Epoch: 154 Loss: tensor(0.9180)\n",
            "Epoch: 155 Loss: tensor(0.9180)\n",
            "Epoch: 156 Loss: tensor(0.9175)\n",
            "Epoch: 157 Loss: tensor(0.9177)\n",
            "Epoch: 158 Loss: tensor(0.9172)\n",
            "Epoch: 159 Loss: tensor(0.9173)\n",
            "Epoch: 160 Loss: tensor(0.9167)\n",
            "Epoch: 161 Loss: tensor(0.9170)\n",
            "Epoch: 162 Loss: tensor(0.9163)\n",
            "Epoch: 163 Loss: tensor(0.9165)\n",
            "Epoch: 164 Loss: tensor(0.9159)\n",
            "Epoch: 165 Loss: tensor(0.9162)\n",
            "Epoch: 166 Loss: tensor(0.9159)\n",
            "Epoch: 167 Loss: tensor(0.9161)\n",
            "Epoch: 168 Loss: tensor(0.9154)\n",
            "Epoch: 169 Loss: tensor(0.9158)\n",
            "Epoch: 170 Loss: tensor(0.9152)\n",
            "Epoch: 171 Loss: tensor(0.9155)\n",
            "Epoch: 172 Loss: tensor(0.9148)\n",
            "Epoch: 173 Loss: tensor(0.9148)\n",
            "Epoch: 174 Loss: tensor(0.9144)\n",
            "Epoch: 175 Loss: tensor(0.9147)\n",
            "Epoch: 176 Loss: tensor(0.9143)\n",
            "Epoch: 177 Loss: tensor(0.9143)\n",
            "Epoch: 178 Loss: tensor(0.9139)\n",
            "Epoch: 179 Loss: tensor(0.9141)\n",
            "Epoch: 180 Loss: tensor(0.9136)\n",
            "Epoch: 181 Loss: tensor(0.9138)\n",
            "Epoch: 182 Loss: tensor(0.9136)\n",
            "Epoch: 183 Loss: tensor(0.9136)\n",
            "Epoch: 184 Loss: tensor(0.9134)\n",
            "Epoch: 185 Loss: tensor(0.9136)\n",
            "Epoch: 186 Loss: tensor(0.9132)\n",
            "Epoch: 187 Loss: tensor(0.9130)\n",
            "Epoch: 188 Loss: tensor(0.9128)\n",
            "Epoch: 189 Loss: tensor(0.9126)\n",
            "Epoch: 190 Loss: tensor(0.9124)\n",
            "Epoch: 191 Loss: tensor(0.9125)\n",
            "Epoch: 192 Loss: tensor(0.9123)\n",
            "Epoch: 193 Loss: tensor(0.9122)\n",
            "Epoch: 194 Loss: tensor(0.9118)\n",
            "Epoch: 195 Loss: tensor(0.9119)\n",
            "Epoch: 196 Loss: tensor(0.9116)\n",
            "Epoch: 197 Loss: tensor(0.9116)\n",
            "Epoch: 198 Loss: tensor(0.9117)\n",
            "Epoch: 199 Loss: tensor(0.9115)\n",
            "Epoch: 200 Loss: tensor(0.9113)\n",
            "Epoch: 201 Loss: tensor(0.9113)\n",
            "Epoch: 202 Loss: tensor(0.9111)\n",
            "Epoch: 203 Loss: tensor(0.9108)\n",
            "Epoch: 204 Loss: tensor(0.9107)\n",
            "Epoch: 205 Loss: tensor(0.9106)\n",
            "Epoch: 206 Loss: tensor(0.9104)\n",
            "Epoch: 207 Loss: tensor(0.9105)\n",
            "Epoch: 208 Loss: tensor(0.9104)\n",
            "Epoch: 209 Loss: tensor(0.9099)\n",
            "Epoch: 210 Loss: tensor(0.9096)\n",
            "Epoch: 211 Loss: tensor(0.9092)\n",
            "Epoch: 212 Loss: tensor(0.9089)\n",
            "Epoch: 213 Loss: tensor(0.9089)\n",
            "Epoch: 214 Loss: tensor(0.9086)\n",
            "Epoch: 215 Loss: tensor(0.9086)\n",
            "Epoch: 216 Loss: tensor(0.9082)\n",
            "Epoch: 217 Loss: tensor(0.9079)\n",
            "Epoch: 218 Loss: tensor(0.9074)\n",
            "Epoch: 219 Loss: tensor(0.9073)\n",
            "Epoch: 220 Loss: tensor(0.9069)\n",
            "Epoch: 221 Loss: tensor(0.9066)\n",
            "Epoch: 222 Loss: tensor(0.9084)\n",
            "Epoch: 223 Loss: tensor(0.9058)\n",
            "Epoch: 224 Loss: tensor(0.9054)\n",
            "Epoch: 225 Loss: tensor(0.9048)\n",
            "Epoch: 226 Loss: tensor(0.9047)\n",
            "Epoch: 227 Loss: tensor(0.9039)\n",
            "Epoch: 228 Loss: tensor(0.9033)\n",
            "Epoch: 229 Loss: tensor(0.9024)\n",
            "Epoch: 230 Loss: tensor(0.9018)\n",
            "Epoch: 231 Loss: tensor(0.9013)\n",
            "Epoch: 232 Loss: tensor(0.8999)\n",
            "Epoch: 233 Loss: tensor(0.8997)\n",
            "Epoch: 234 Loss: tensor(0.8986)\n",
            "Epoch: 235 Loss: tensor(0.8983)\n",
            "Epoch: 236 Loss: tensor(0.8967)\n",
            "Epoch: 237 Loss: tensor(0.8966)\n",
            "Epoch: 238 Loss: tensor(0.8953)\n",
            "Epoch: 239 Loss: tensor(0.8954)\n",
            "Epoch: 240 Loss: tensor(0.8942)\n",
            "Epoch: 241 Loss: tensor(0.8941)\n",
            "Epoch: 242 Loss: tensor(0.8923)\n",
            "Epoch: 243 Loss: tensor(0.8921)\n",
            "Epoch: 244 Loss: tensor(0.8912)\n",
            "Epoch: 245 Loss: tensor(0.8908)\n",
            "Epoch: 246 Loss: tensor(0.8891)\n",
            "Epoch: 247 Loss: tensor(0.8889)\n",
            "Epoch: 248 Loss: tensor(0.8880)\n",
            "Epoch: 249 Loss: tensor(0.8875)\n",
            "Epoch: 250 Loss: tensor(0.8869)\n"
          ],
          "name": "stdout"
        }
      ]
    },
    {
      "cell_type": "code",
      "metadata": {
        "id": "g1aZ77-Gu7Z1",
        "colab_type": "code",
        "colab": {
          "base_uri": "https://localhost:8080/",
          "height": 34
        },
        "outputId": "1199643f-da32-482f-9a45-32a30e23d87b"
      },
      "source": [
        "test_loss=0 # testing model\n",
        "s=0.\n",
        "for id_users in range(nb_users):\n",
        "    input=Variable(train_set[id_users]).unsqueeze(0)  # adding additional dimension at index pos 0 after the train_set\n",
        "    target=input.clone()  # input and target dims are same\n",
        "    if torch.sum(target.data>0)>0 : # atleast one movie has been rated\n",
        "       output=sae(input)\n",
        "       target.require_grad=False # no optimizers are used at the target end\n",
        "       output[target==0]=0\n",
        "       loss=loss_fun(target, output)\n",
        "       mean_corrector=nb_movies/float(torch.sum(target.data>0)+1e-10)\n",
        "       test_loss+=np.sqrt(loss.data*mean_corrector)\n",
        "       s+=1.\n",
        "       optimizer.step()  \n",
        "    \n",
        "print(\"Test_Loss: \"+str(test_loss/s))"
      ],
      "execution_count": 44,
      "outputs": [
        {
          "output_type": "stream",
          "text": [
            "Test_Loss: tensor(0.8896)\n"
          ],
          "name": "stdout"
        }
      ]
    },
    {
      "cell_type": "code",
      "metadata": {
        "id": "TrsOsYBG7BlL",
        "colab_type": "code",
        "colab": {}
      },
      "source": [
        ""
      ],
      "execution_count": 0,
      "outputs": []
    }
  ]
}